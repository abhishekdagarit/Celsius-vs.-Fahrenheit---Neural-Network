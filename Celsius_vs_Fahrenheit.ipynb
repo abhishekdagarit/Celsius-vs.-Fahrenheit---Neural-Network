{
  "nbformat": 4,
  "nbformat_minor": 0,
  "metadata": {
    "colab": {
      "name": "Celsius vs. Fahrenheit  ",
      "provenance": [],
      "authorship_tag": "ABX9TyPL2ECvREy6HXR9xqt19SdW",
      "include_colab_link": true
    },
    "kernelspec": {
      "name": "python3",
      "display_name": "Python 3"
    }
  },
  "cells": [
    {
      "cell_type": "markdown",
      "metadata": {
        "id": "view-in-github",
        "colab_type": "text"
      },
      "source": [
        "<a href=\"https://colab.research.google.com/github/abhishekdagarit/Celsius-vs.-Fahrenheit---Neural-Network/blob/master/Celsius_vs_Fahrenheit.ipynb\" target=\"_parent\"><img src=\"https://colab.research.google.com/assets/colab-badge.svg\" alt=\"Open In Colab\"/></a>"
      ]
    },
    {
      "cell_type": "code",
      "metadata": {
        "id": "IXGy8gx_JUyD",
        "colab_type": "code",
        "colab": {
          "base_uri": "https://localhost:8080/",
          "height": 568
        },
        "outputId": "82bfd7fb-fc23-4d38-fc9f-f109ffb7f1e1"
      },
      "source": [
        "#import the data \n",
        "#import the package\n",
        "import tensorflow as tf\n",
        "import numpy as np\n",
        "\n",
        "#adding data\n",
        "c = np.array([-40, -10,  0,  8, 15, 22,  38])\n",
        "f = np.array([-40, 14, 32, 46, 59, 72, 100])\n",
        "\n",
        "#printing the values in c and f\n",
        "for x in c:\n",
        "  print(x)\n",
        "\n",
        "for x in f:\n",
        "  print(x)\n",
        "\n",
        "#assigned data \n",
        "#got the package as well\n",
        "\n",
        "model = tf.keras.Sequential([\n",
        "  tf.keras.layers.Dense(units=1, input_shape=[1])\n",
        "])\n",
        "\n",
        "model.compile(loss='mean_squared_error',\n",
        "              optimizer=tf.keras.optimizers.Adam(0.1))\n",
        "\n",
        "history = model.fit(c, f, epochs=500, verbose=False)\n",
        "print(\"Finished training the model\")\n",
        "\n",
        "\n",
        "import matplotlib.pyplot as plt\n",
        "plt.xlabel('Epoch Number')\n",
        "plt.ylabel(\"Loss Magnitude\")\n",
        "plt.plot(history.history['loss'])\n",
        "\n",
        "print(model.predict([100.0]))\n",
        "\n",
        "print(\"These are the layer variables: {}\".format(l0.get_weights()))"
      ],
      "execution_count": null,
      "outputs": [
        {
          "output_type": "stream",
          "text": [
            "-40\n",
            "-10\n",
            "0\n",
            "8\n",
            "15\n",
            "22\n",
            "38\n",
            "-40\n",
            "14\n",
            "32\n",
            "46\n",
            "59\n",
            "72\n",
            "100\n",
            "Finished training the model\n",
            "[[211.28265]]\n",
            "These are the layer variables: [array([[-1.3225826]], dtype=float32), array([0.], dtype=float32)]\n"
          ],
          "name": "stdout"
        },
        {
          "output_type": "display_data",
          "data": {
            "image/png": "[encoded data removed]",
            "text/plain": [
              "<Figure size 432x288 with 1 Axes>"
            ]
          },
          "metadata": {
            "tags": [],
            "needs_background": "light"
          }
        }
      ]
    }
  ]
}